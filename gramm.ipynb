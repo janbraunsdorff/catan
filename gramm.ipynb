{
 "cells": [
  {
   "cell_type": "code",
   "execution_count": 2,
   "metadata": {},
   "outputs": [],
   "source": [
    "import numpy as np"
   ]
  },
  {
   "cell_type": "code",
   "execution_count": 8,
   "metadata": {},
   "outputs": [],
   "source": [
    "X=np.array([[1.,2],[1,3],[-1,2]]) \n",
    "T=np.array([[2.],[5],[-2]])\n",
    "N,D = X.shape\n",
    "c = 1.\n",
    "M = 2.\n",
    "sig = 1.\n",
    "lmb = 0.2\n",
    "I = np.eye(N)"
   ]
  },
  {
   "cell_type": "code",
   "execution_count": 13,
   "metadata": {},
   "outputs": [],
   "source": [
    "def funKernel_a(x,x_): \n",
    "    print(x, x_)\n",
    "    return np.dot(x,x_)"
   ]
  },
  {
   "cell_type": "code",
   "execution_count": 10,
   "metadata": {},
   "outputs": [
    {
     "data": {
      "text/plain": [
       "array([[ 5.,  7.,  3.],\n",
       "       [ 7., 10.,  5.],\n",
       "       [ 3.,  5.,  5.]])"
      ]
     },
     "execution_count": 10,
     "metadata": {},
     "output_type": "execute_result"
    }
   ],
   "source": [
    "Ka,Kb,Kc=np.zeros((N,N)),np.zeros((N,N)),np.zeros((N,N))\n",
    "for n in range(N):\n",
    "    for m in range(N):\n",
    "        Ka[n,m] = funKernel_a(X[n],X[m])\n",
    "Ka"
   ]
  },
  {
   "cell_type": "code",
   "execution_count": 11,
   "metadata": {},
   "outputs": [
    {
     "data": {
      "text/plain": [
       "array([[-6.48566464],\n",
       "       [ 6.23370982],\n",
       "       [-2.63683753]])"
      ]
     },
     "execution_count": 11,
     "metadata": {},
     "output_type": "execute_result"
    }
   ],
   "source": [
    "Ka_inv_t = np.dot(np.linalg.inv(Ka+lmb*I),T)\n",
    "# a = (K+lmb*I)^-1 * t\n",
    "Ka_inv_t\n"
   ]
  },
  {
   "cell_type": "code",
   "execution_count": 14,
   "metadata": {},
   "outputs": [
    {
     "name": "stdout",
     "output_type": "stream",
     "text": [
      "[1. 2.] [0.5 1.2]\n",
      "[1. 3.] [0.5 1.2]\n",
      "[-1.  2.] [0.5 1.2]\n"
     ]
    },
    {
     "data": {
      "text/plain": [
       "array([2.9, 4.1, 1.9])"
      ]
     },
     "execution_count": 14,
     "metadata": {},
     "output_type": "execute_result"
    }
   ],
   "source": [
    "x = np.array([0.5,1.2])\n",
    "ka = np.array([funKernel_a(X[n], x) for n in range(N)])\n",
    "ka"
   ]
  },
  {
   "cell_type": "code",
   "execution_count": 16,
   "metadata": {},
   "outputs": [
    {
     "data": {
      "text/plain": [
       "array([1.73979149])"
      ]
     },
     "execution_count": 16,
     "metadata": {},
     "output_type": "execute_result"
    }
   ],
   "source": [
    "ya= np.dot(ka,Ka_inv_t)\n",
    "ya"
   ]
  },
  {
   "cell_type": "code",
   "execution_count": null,
   "metadata": {},
   "outputs": [],
   "source": []
  }
 ],
 "metadata": {
  "kernelspec": {
   "display_name": "catan",
   "language": "python",
   "name": "python3"
  },
  "language_info": {
   "codemirror_mode": {
    "name": "ipython",
    "version": 3
   },
   "file_extension": ".py",
   "mimetype": "text/x-python",
   "name": "python",
   "nbconvert_exporter": "python",
   "pygments_lexer": "ipython3",
   "version": "3.11.3"
  }
 },
 "nbformat": 4,
 "nbformat_minor": 2
}
